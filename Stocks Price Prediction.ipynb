{
 "cells": [
  {
   "cell_type": "code",
   "execution_count": 3,
   "id": "f241ac0b",
   "metadata": {},
   "outputs": [],
   "source": [
    "import numpy as np\n",
    "import pandas as pd\n",
    "from sklearn import preprocessing\n",
    "from sklearn.model_selection import train_test_split\n",
    "from sklearn.linear_model import LinearRegression"
   ]
  },
  {
   "cell_type": "code",
   "execution_count": 8,
   "id": "af328df1",
   "metadata": {},
   "outputs": [
    {
     "data": {
      "text/plain": [
       "(         Date        Open        High         Low       Close   Adj Close  \\\n",
       " 0  2016-06-29  683.000000  687.429016  681.409973  684.109985  684.109985   \n",
       " 1  2016-06-30  685.469971  692.320007  683.650024  692.099976  692.099976   \n",
       " 2  2016-07-01  692.200012  700.650024  692.130005  699.210022  699.210022   \n",
       " 3  2016-07-05  696.059998  696.940002  688.880005  694.950012  694.950012   \n",
       " 4  2016-07-06  689.979980  701.679993  689.090027  697.770020  697.770020   \n",
       " 5  2016-07-07  698.080017  698.200012  688.215027  695.359985  695.359985   \n",
       " 6  2016-07-08  699.500000  705.710022  696.434998  705.630005  705.630005   \n",
       " 7  2016-07-11  708.049988  716.510010  707.239990  715.090027  715.090027   \n",
       " 8  2016-07-12  719.119995  722.940002  715.909973  720.640015  720.640015   \n",
       " 9  2016-07-13  723.619995  724.000000  716.849976  716.979980  716.979980   \n",
       " \n",
       "     Volume  \n",
       " 0  1932600  \n",
       " 1  1597700  \n",
       " 2  1344700  \n",
       " 3  1462600  \n",
       " 4  1411900  \n",
       " 5  1304200  \n",
       " 6  1575200  \n",
       " 7  1111800  \n",
       " 8  1336900  \n",
       " 9   935900  ,\n",
       "             Date         Open         High          Low        Close  \\\n",
       " 1248  2021-06-15  2530.439941  2537.239990  2512.969971  2520.659912   \n",
       " 1249  2021-06-16  2524.949951  2530.469971  2482.999023  2513.929932   \n",
       " 1250  2021-06-17  2510.459961  2543.929932  2510.300049  2527.419922   \n",
       " 1251  2021-06-18  2514.110107  2527.780029  2492.060059  2511.350098   \n",
       " 1252  2021-06-21  2514.800049  2540.735107  2502.685059  2529.100098   \n",
       " 1253  2021-06-22  2529.000000  2545.399902  2520.530029  2539.989990   \n",
       " 1254  2021-06-23  2531.000000  2555.919922  2525.040039  2529.229980   \n",
       " 1255  2021-06-24  2541.070068  2550.709961  2539.199951  2545.639893   \n",
       " 1256  2021-06-25  2539.139893  2550.100098  2528.879883  2539.899902   \n",
       " 1257  2021-06-28  2540.000000  2546.739990  2519.476074  2536.389893   \n",
       " \n",
       "         Adj Close   Volume  \n",
       " 1248  2520.659912  1109100  \n",
       " 1249  2513.929932  1315800  \n",
       " 1250  2527.419922  1287800  \n",
       " 1251  2511.350098  2634700  \n",
       " 1252  2529.100098  1312800  \n",
       " 1253  2539.989990  1049200  \n",
       " 1254  2529.229980   984700  \n",
       " 1255  2545.639893   946700  \n",
       " 1256  2539.899902  1674200  \n",
       " 1257  2536.389893  1404700  )"
      ]
     },
     "execution_count": 8,
     "metadata": {},
     "output_type": "execute_result"
    }
   ],
   "source": [
    "df = pd.read_csv(\"data/GOOG.csv.gz\")\n",
    "df.head(10), df.tail(10)"
   ]
  },
  {
   "cell_type": "code",
   "execution_count": 9,
   "id": "1cc17574",
   "metadata": {},
   "outputs": [],
   "source": [
    "# parameters\n",
    "forecast_col = 'Close'\n",
    "forecast_out = 5\n",
    "test_size = .2"
   ]
  },
  {
   "cell_type": "markdown",
   "id": "ca4ae00e",
   "metadata": {},
   "source": [
    "# X - features\n",
    "\n",
    "1. Extract the `forecast_col`, in this example 'Close'\n",
    "1. Ignore the last `forecast_out` number of rows, they will be used later to test the prediction in `x_lately`\n",
    "1. Scale the values using the `sklearn.preprocessing.scale` function to get better results"
   ]
  },
  {
   "cell_type": "code",
   "execution_count": 10,
   "id": "38274674",
   "metadata": {},
   "outputs": [
    {
     "data": {
      "text/plain": [
       "(array([[ 684.109985],\n",
       "        [ 692.099976],\n",
       "        [ 699.210022],\n",
       "        ...,\n",
       "        [2527.419922],\n",
       "        [2511.350098],\n",
       "        [2529.100098]]),\n",
       " array([[2539.98999 ],\n",
       "        [2529.22998 ],\n",
       "        [2545.639893],\n",
       "        [2539.899902],\n",
       "        [2536.389893]]))"
      ]
     },
     "execution_count": 10,
     "metadata": {},
     "output_type": "execute_result"
    }
   ],
   "source": [
    "# x - features, extract forecast collumn, remove last 5 rows (they will be used for prediction later), scalling the valies \n",
    "x = np.array(df[[forecast_col]])\n",
    "#x = preprocessing.scale(x)\n",
    "x_lately = x[-forecast_out:]\n",
    "x = x[:-forecast_out]\n",
    "x, x_lately"
   ]
  },
  {
   "cell_type": "markdown",
   "id": "c63147da",
   "metadata": {},
   "source": [
    "# Y - label\n",
    "\n",
    "1. E"
   ]
  },
  {
   "cell_type": "code",
   "execution_count": 211,
   "id": "5fd25102",
   "metadata": {},
   "outputs": [
    {
     "data": {
      "text/plain": [
       "(array([ 738.630005,  742.73999 ,  739.77002 , ..., 2545.639893,\n",
       "        2539.899902, 2536.389893]),\n",
       " array([695.359985, 705.630005, 715.090027, 720.640015, 716.97998 ,\n",
       "        720.950012, 719.849976, 733.780029, 736.960022, 741.190002]))"
      ]
     },
     "execution_count": 211,
     "metadata": {},
     "output_type": "execute_result"
    }
   ],
   "source": [
    "# y - label\n",
    "label = df[forecast_col].shift(-forecast_out)\n",
    "label.dropna(inplace=True)\n",
    "y = np.array(label)\n",
    "y[10:], y[:10]"
   ]
  },
  {
   "cell_type": "code",
   "execution_count": 166,
   "id": "cfc57c3b",
   "metadata": {},
   "outputs": [],
   "source": [
    "x_train, x_test, y_train, y_test = train_test_split(x, y, test_size=test_size, random_state=0)"
   ]
  },
  {
   "cell_type": "code",
   "execution_count": 158,
   "id": "7b848c2b",
   "metadata": {
    "scrolled": true
   },
   "outputs": [
    {
     "data": {
      "text/plain": [
       "LinearRegression()"
      ]
     },
     "execution_count": 158,
     "metadata": {},
     "output_type": "execute_result"
    }
   ],
   "source": [
    "model = LinearRegression()\n",
    "model.fit(x_train, y_train)"
   ]
  },
  {
   "cell_type": "code",
   "execution_count": 159,
   "id": "b29027b4",
   "metadata": {},
   "outputs": [
    {
     "data": {
      "text/plain": [
       "(0.98665567198588,\n",
       " array([2559.53352746, 2548.6684445 , 2565.23860253, 2559.44255974,\n",
       "        2555.89827502]),\n",
       " array([[3.27659517],\n",
       "        [3.24963348],\n",
       "        [3.29075231],\n",
       "        [3.27636944],\n",
       "        [3.2675743 ]]))"
      ]
     },
     "execution_count": 159,
     "metadata": {},
     "output_type": "execute_result"
    }
   ],
   "source": [
    "score = model.score(x_test, y_test)\n",
    "forecast = model.predict(x_lately)\n",
    "score, forecast, x_lately"
   ]
  }
 ],
 "metadata": {
  "kernelspec": {
   "display_name": "Python 3",
   "language": "python",
   "name": "python3"
  },
  "language_info": {
   "codemirror_mode": {
    "name": "ipython",
    "version": 3
   },
   "file_extension": ".py",
   "mimetype": "text/x-python",
   "name": "python",
   "nbconvert_exporter": "python",
   "pygments_lexer": "ipython3",
   "version": "3.8.8"
  }
 },
 "nbformat": 4,
 "nbformat_minor": 5
}
